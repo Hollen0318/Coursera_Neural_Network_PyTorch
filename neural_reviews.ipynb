{
 "cells": [
  {
   "cell_type": "code",
   "execution_count": 3,
   "id": "4a779247-70b1-4210-ae3f-0b42b0507b75",
   "metadata": {},
   "outputs": [],
   "source": [
    "# I think first I need to load the dataset."
   ]
  },
  {
   "cell_type": "code",
   "execution_count": 4,
   "id": "dfc47b86-74e9-45ac-b567-7691f9f863d1",
   "metadata": {},
   "outputs": [],
   "source": [
    "# Then I will apply varioius models"
   ]
  },
  {
   "cell_type": "code",
   "execution_count": 5,
   "id": "4946ad6f-b19a-419b-9790-e2829cbc7c8c",
   "metadata": {},
   "outputs": [],
   "source": [
    "# First, if I remember correctly, is the linear regression"
   ]
  },
  {
   "cell_type": "code",
   "execution_count": 6,
   "id": "3b67d71e-f984-49cb-91fa-97034c0b74f2",
   "metadata": {},
   "outputs": [],
   "source": [
    "# This model may not be strong enough to predict the image number"
   ]
  },
  {
   "cell_type": "code",
   "execution_count": 7,
   "id": "c9b42b00-069d-4a09-872d-2040c3638239",
   "metadata": {},
   "outputs": [],
   "source": [
    "# Anyway I will start the dataset loading"
   ]
  },
  {
   "cell_type": "code",
   "execution_count": 12,
   "id": "781e3e9f-1b73-44c3-8447-21a705701b9d",
   "metadata": {},
   "outputs": [],
   "source": [
    "# Load the training dataset by setting the parameters train \n",
    "# to True and convert it to a tensor by placing a transform \n",
    "# object in the argument transform."
   ]
  },
  {
   "cell_type": "code",
   "execution_count": 2,
   "id": "30bd955f-d959-47a5-950d-3b2fc0b98edf",
   "metadata": {},
   "outputs": [],
   "source": [
    "# I guess the torch package is always welcome\n",
    "import torch"
   ]
  },
  {
   "cell_type": "code",
   "execution_count": 3,
   "id": "db701413-f733-4969-b2a0-5e54534f7753",
   "metadata": {},
   "outputs": [],
   "source": [
    "# I need some packages, this one is for dataset loading\n",
    "import torchvision.datasets as dsets\n",
    "# This one is for dataset transformation\n",
    "import torchvision.transforms as transforms"
   ]
  },
  {
   "cell_type": "code",
   "execution_count": 4,
   "id": "0ec2e8f7-3785-4369-991b-ca171b6eb9e4",
   "metadata": {},
   "outputs": [
    {
     "name": "stdout",
     "output_type": "stream",
     "text": [
      "Print the dataset:\n",
      "  Dataset MNIST\n",
      "    Number of datapoints: 10000\n",
      "    Split: test\n",
      "    Root Location: ./data\n",
      "    Transforms (if any): ToTensor()\n",
      "    Target Transforms (if any): None\n"
     ]
    }
   ],
   "source": [
    "dataset = dsets.MNIST(root = './data', train = False, download = True, \n",
    "                      transform = transforms.ToTensor())\n",
    "print(\"Print the dataset:\\n \", dataset)"
   ]
  },
  {
   "cell_type": "code",
   "execution_count": 5,
   "id": "e29ad6ea-d156-489d-aefc-13112bfe5821",
   "metadata": {},
   "outputs": [
    {
     "data": {
      "text/plain": [
       "tensor(7)"
      ]
     },
     "execution_count": 5,
     "metadata": {},
     "output_type": "execute_result"
    }
   ],
   "source": [
    "dataset[0][1]"
   ]
  },
  {
   "cell_type": "code",
   "execution_count": 6,
   "id": "9b8ef546-f776-4173-a99d-60af0affae18",
   "metadata": {},
   "outputs": [],
   "source": [
    "# Since the tensor values are actually gray value, \n",
    "# therefore I need a function to print this image\n",
    "\n",
    "# I need plotting packages like matplotlib.pylab\n",
    "import matplotlib.pylab as plt\n",
    "\n",
    "# The array package numpy\n",
    "import numpy as np"
   ]
  },
  {
   "cell_type": "code",
   "execution_count": 7,
   "id": "13b2aab3-b833-435f-b1ba-ad2481d30066",
   "metadata": {},
   "outputs": [],
   "source": [
    "def show_data(dataset):\n",
    "    plt.imshow(dataset[0].numpy().reshape(28, 28), cmap = 'gray')\n",
    "    plt.title ('y = ' + str(dataset[1]))"
   ]
  },
  {
   "cell_type": "code",
   "execution_count": 17,
   "id": "f3b6d307-86cb-4bb9-91a3-ea3a4e48873b",
   "metadata": {},
   "outputs": [
    {
     "data": {
      "image/png": "[encoded data removed]",
      "text/plain": [
       "<Figure size 432x288 with 1 Axes>"
      ]
     },
     "metadata": {
      "needs_background": "light"
     },
     "output_type": "display_data"
    }
   ],
   "source": [
    "show_data(dataset[1])"
   ]
  },
  {
   "cell_type": "code",
   "execution_count": 9,
   "id": "3527fe47-4082-4f0d-8167-084893e8880a",
   "metadata": {},
   "outputs": [],
   "source": [
    "# print(\"The label: \", dataset[1][1])"
   ]
  },
  {
   "cell_type": "code",
   "execution_count": 10,
   "id": "63c48fc6-9dfb-44dd-a67c-4ef935e312a9",
   "metadata": {},
   "outputs": [],
   "source": [
    "# print(\"The image: \", show_data(dataset[1]))"
   ]
  },
  {
   "cell_type": "code",
   "execution_count": 11,
   "id": "f2088d76-5ef8-4b19-a4d3-0b1d1a97b000",
   "metadata": {},
   "outputs": [],
   "source": [
    "# show_data(dataset[2])"
   ]
  },
  {
   "cell_type": "code",
   "execution_count": 12,
   "id": "7f18058d-f571-4bc3-8711-5edba00620da",
   "metadata": {},
   "outputs": [],
   "source": [
    "# Okay, now I know that the [x][0] is the image of the xth"
   ]
  },
  {
   "cell_type": "code",
   "execution_count": 13,
   "id": "91c9e6fa-5eb3-4d65-b628-c084c0410b0f",
   "metadata": {},
   "outputs": [],
   "source": [
    "# And the [x][1] is the label of xth image"
   ]
  },
  {
   "cell_type": "code",
   "execution_count": 14,
   "id": "8e0e9c0d-65e2-4331-a5d9-c96ba8f388b9",
   "metadata": {},
   "outputs": [],
   "source": [
    "# Now I need to define a model, how about one neural"
   ]
  },
  {
   "cell_type": "code",
   "execution_count": 15,
   "id": "a55738b5-dc79-4419-9172-7c629eb6ac97",
   "metadata": {},
   "outputs": [
    {
     "data": {
      "text/plain": [
       "<torch._C.Generator at 0x7fbdd0064ab0>"
      ]
     },
     "execution_count": 15,
     "metadata": {},
     "output_type": "execute_result"
    }
   ],
   "source": [
    "# To use the neural network, I need the nn package\n",
    "from torch import nn\n",
    "torch.manual_seed(1)"
   ]
  },
  {
   "cell_type": "code",
   "execution_count": 16,
   "id": "b38e55be-f3d0-4754-b790-cc098aea263d",
   "metadata": {},
   "outputs": [],
   "source": [
    "# Before I apply it to the actual MNIST dataset, \n",
    "# I may better practice it on small datasets"
   ]
  },
  {
   "cell_type": "code",
   "execution_count": 18,
   "id": "1313a86a-ad20-49de-9374-f7a78b7edfa0",
   "metadata": {},
   "outputs": [],
   "source": [
    "# How about basic linear regression?\n",
    "# First I need to create the datasets"
   ]
  },
  {
   "cell_type": "code",
   "execution_count": 19,
   "id": "d03c9105-fce8-4bbf-969f-42f9933c2fca",
   "metadata": {},
   "outputs": [],
   "source": [
    "# I need a function to help me visiualize the data space\n",
    "# and the parameter space during training, though has nothing to do\n",
    "# with the PyTorch"
   ]
  },
  {
   "cell_type": "code",
   "execution_count": 21,
   "id": "86c1f520-de95-4873-8f12-73222b66c6df",
   "metadata": {},
   "outputs": [],
   "source": [
    "class plot_diagram():\n",
    "    def __init__(self, X, Y, w, stop, go = False):\n",
    "        start = w.data\n",
    "        self.error = []\n",
    "        self.parameter = []\n",
    "        self.X = X.numpy()\n",
    "        self.Y = Y.numpy()\n",
    "        self.parameter_values = torch.arrange(start, stop)\n",
    "        # So far I only know that the torch.arrange returns tensor\n",
    "        # that ranges from start to stop\n",
    "        self.Loss_function = [criterion(forward(X), Y) \n",
    "                              for w.data in self.parameter_values]\n",
    "        w.data = start\n",
    "        \n",
    "        # Okay the loss_function is a little confusing now\n",
    "        \n",
    "    def __call__(self, Yhat, w, error, n):\n",
    "        self.error.append(error)\n",
    "        self.parameter.append(w.data)\n",
    "        plt.subplot(212)\n",
    "        plt.plot(self.X, Yhat.detach().numpy())\n",
    "        plt.plot(self.X, self.Y, 'ro')\n",
    "        plt.xlabel(\"A\")\n",
    "        plt.ylim(-20, 20)\n",
    "        plt.subplot(211)\n",
    "        plt.title(\"\"\"Data Space (top) Estimated Line (bottom) \n",
    "                  Iteration \"\"\")\n",
    "        print(self.Loss_function)\n",
    "        loss_list = []\n",
    "        for each in self.Loss_function:\n",
    "            loss_list.append(each.detach().item())\n",
    "        plt.plot(self.parameter_values.detach().numpy(), loss_list)\n",
    "        plt.plot(self.parameter, self.error, 'ro')\n",
    "        plt.xlabel(\"B\")\n",
    "        plt.figure()\n",
    "    \n",
    "    def __del__(self):\n",
    "        plt.close('all')"
   ]
  },
  {
   "cell_type": "code",
   "execution_count": 22,
   "id": "d079fbd9-8e48-4da3-8f5c-b4e4b9ed20e7",
   "metadata": {},
   "outputs": [],
   "source": [
    "# Okay the plotting function is making no sense to me right now"
   ]
  },
  {
   "cell_type": "code",
   "execution_count": 23,
   "id": "6100cd5f-2213-4c0a-a37a-c57a9bdb35a3",
   "metadata": {},
   "outputs": [],
   "source": [
    "# So I am gonna first do the data, as it determines the way of plotting"
   ]
  },
  {
   "cell_type": "code",
   "execution_count": 24,
   "id": "44867a51-1a73-4a29-9962-0f74318cbd25",
   "metadata": {},
   "outputs": [],
   "source": [
    "# Also the way we apply this function indicates its strctures too"
   ]
  },
  {
   "cell_type": "code",
   "execution_count": 28,
   "id": "71f5a2eb-4285-4a08-94cf-de9ca1a563eb",
   "metadata": {},
   "outputs": [],
   "source": [
    "X = torch.arange(-3, 3, 0.1).view(-1, 1)\n",
    "f = -3 * X"
   ]
  },
  {
   "cell_type": "code",
   "execution_count": 30,
   "id": "3ae653b6-25d4-40e0-9404-9eddb7e0b194",
   "metadata": {},
   "outputs": [
    {
     "data": {
      "image/png": "[encoded data removed]",
      "text/plain": [
       "<Figure size 432x288 with 1 Axes>"
      ]
     },
     "metadata": {
      "needs_background": "light"
     },
     "output_type": "display_data"
    }
   ],
   "source": [
    "plt.plot(X.numpy(), f.numpy(), label = 'f')\n",
    "plt.xlabel('x')\n",
    "plt.ylabel('y')\n",
    "plt.legend()\n",
    "plt.show()"
   ]
  },
  {
   "cell_type": "code",
   "execution_count": null,
   "id": "c15a496d-300a-483c-8596-1541d937e108",
   "metadata": {},
   "outputs": [],
   "source": []
  }
 ],
 "metadata": {
  "kernelspec": {
   "display_name": "Python",
   "language": "python",
   "name": "conda-env-python-py"
  },
  "language_info": {
   "codemirror_mode": {
    "name": "ipython",
    "version": 3
   },
   "file_extension": ".py",
   "mimetype": "text/x-python",
   "name": "python",
   "nbconvert_exporter": "python",
   "pygments_lexer": "ipython3",
   "version": "3.7.12"
  }
 },
 "nbformat": 4,
 "nbformat_minor": 5
}
